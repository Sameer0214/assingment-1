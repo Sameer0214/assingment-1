{
 "cells": [
  {
   "cell_type": "code",
   "execution_count": 4,
   "id": "3db0df05-409d-46b0-a49e-067a83f50cec",
   "metadata": {},
   "outputs": [
    {
     "ename": "SyntaxError",
     "evalue": "invalid syntax (2110652831.py, line 1)",
     "output_type": "error",
     "traceback": [
      "\u001b[0;36m  Cell \u001b[0;32mIn [4], line 1\u001b[0;36m\u001b[0m\n\u001b[0;31m    ans 1=used in web applications to connect user-facing front ends with critical back-end functionality and data.\u001b[0m\n\u001b[0m        ^\u001b[0m\n\u001b[0;31mSyntaxError\u001b[0m\u001b[0;31m:\u001b[0m invalid syntax\n"
     ]
    }
   ],
   "source": [
    "ans 1=used in web applications to connect user-facing front ends with critical back-end functionality and data. \n",
    "api example is maps API allows map information integration via websites, Android,iOS, etc\n",
    "real life exmaple is APIs are used to deliver material by streaming services such as Spotify and Netflix."
   ]
  },
  {
   "cell_type": "code",
   "execution_count": 5,
   "id": "00339f7a-032c-4b76-beec-ba606a121841",
   "metadata": {},
   "outputs": [
    {
     "ename": "SyntaxError",
     "evalue": "invalid decimal literal (1099738844.py, line 2)",
     "output_type": "error",
     "traceback": [
      "\u001b[0;36m  Cell \u001b[0;32mIn [5], line 2\u001b[0;36m\u001b[0m\n\u001b[0;31m    1.Increased Interoperability: API solutions enable different software systems to communicate with each other, regardless of their programming language or platform. This enhances the interoperability between systems, allowing for the exchange of data and functionality.\u001b[0m\n\u001b[0m     ^\u001b[0m\n\u001b[0;31mSyntaxError\u001b[0m\u001b[0;31m:\u001b[0m invalid decimal literal\n"
     ]
    }
   ],
   "source": [
    "ans 2 = advantage of api\n",
    "        1.Increased Interoperability: API solutions enable different software systems to communicate with each other, regardless of their programming language or platform. This enhances the interoperability between systems, allowing for the exchange of data and functionality.\n",
    "        2.Improved Efficiency: API Better User Experience: APIs can enable third-party developers to create applications that integrate with existing software systems, providing a better user experience and increased functionality.driven infrastructures enable developers to reuse code and functionality from existing software systems, saving time and reducing the amount of code that needs to be written from scratch.\n",
    "        3.Better User Experience: APIs can enable third-party developers to create applications that integrate with existing software systems, providing a better user experience and increased functionality.\n",
    "        4.Increased Flexibility: APIs provide developers with greater flexibility, enabling them to choose the best programming languages and frameworks for their needs.\n",
    "        disadvantage of api\n",
    "        1.Security Concerns: API infrastructures can be vulnerable to security breaches, such as SQL injection attacks and cross-site scripting (XSS) attacks, making it crucial to implement security measures to protect against these threats.\n",
    "        2.Complexity: APIs can be complex, requiring a significant amount of development effort to implement and maintain.\n",
    "         3.Compatibility Issues: APIs can have compatibility issues between different versions of the same software system or between different systems, which can lead to errors and system failures.\n",
    "         4.Dependency on Third-Party Developers: APIs rely on third-party developers to create applications that integrate with the software system. This can create dependencies that are outside of the control of the company that owns the software system."
   ]
  },
  {
   "cell_type": "code",
   "execution_count": 6,
   "id": "cb77b88a-0e7e-4c7b-b915-a1dc8449e9e3",
   "metadata": {},
   "outputs": [
    {
     "ename": "SyntaxError",
     "evalue": "unterminated string literal (detected at line 3) (3016658035.py, line 3)",
     "output_type": "error",
     "traceback": [
      "\u001b[0;36m  Cell \u001b[0;32mIn [6], line 3\u001b[0;36m\u001b[0m\n\u001b[0;31m    Both APIs and web services are technologies that enable the transfer of data between separate software applications. API is an interface that exposes an application's data to outside software, whereas web applications are one type of API with stricter requirements.\u001b[0m\n\u001b[0m                                                                                                                                                                        ^\u001b[0m\n\u001b[0;31mSyntaxError\u001b[0m\u001b[0;31m:\u001b[0m unterminated string literal (detected at line 3)\n"
     ]
    }
   ],
   "source": [
    "ans 3=Web API is a programming interface/application type that provides communication or interaction between software applications.\n",
    "   APIs and Web Services: Similar, but Not Identical\n",
    "Both APIs and web services are technologies that enable the transfer of data between separate software applications. API is an interface that exposes an application's data to outside software, whereas web applications are one type of API with stricter requirements."
   ]
  },
  {
   "cell_type": "code",
   "execution_count": null,
   "id": "c08ac6cf-21b5-43d0-9d3c-58d8f4cbd6b1",
   "metadata": {},
   "outputs": [],
   "source": [
    "ans 4=SOAP is difficult to implement and it requires more bandwidth whereas REST is easy to implement and requires less bandwidth such as smartphones. Benefits of SOAP over REST as SOAP has ACID compliance transaction\n",
    "  Limitations of Soaps• Soaps do not wash well in hard water and does not form much lather or foam."
   ]
  },
  {
   "cell_type": "code",
   "execution_count": null,
   "id": "3d5d40b5-816a-4e0d-8d9f-a39682f7d8d0",
   "metadata": {},
   "outputs": [],
   "source": [
    "ans 5=soap api                                   \n",
    "      1.Relies on SOAP (Simple Object Access Protocol)       \n",
    "      2.Transports data in standard XML format.\n",
    "    3.Because it is XML based and relies on SOAP, it works with WSDL\n",
    "    4.Works over HTTP, HTTPS, SMTP, XMPP\n",
    "    5.Highly structured/typed\n",
    "    \n",
    "    rest api\n",
    "    1.Relies on REST (Representational State Transfer) architecture using HTTP.\n",
    "    2.Generally transports data in JSON. It is based on URI. Because REST follows stateless model, REST does not enforces message format as XML or JSON etc.\n",
    "    3.It works with GET, POST, PUT, DELETE\n",
    "    4.Works over HTTP and HTTPS\n",
    "    5.Less structured -> less bulky data"
   ]
  }
 ],
 "metadata": {
  "kernelspec": {
   "display_name": "Python 3 (ipykernel)",
   "language": "python",
   "name": "python3"
  },
  "language_info": {
   "codemirror_mode": {
    "name": "ipython",
    "version": 3
   },
   "file_extension": ".py",
   "mimetype": "text/x-python",
   "name": "python",
   "nbconvert_exporter": "python",
   "pygments_lexer": "ipython3",
   "version": "3.10.6"
  }
 },
 "nbformat": 4,
 "nbformat_minor": 5
}
